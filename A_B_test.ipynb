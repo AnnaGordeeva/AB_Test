{
  "nbformat": 4,
  "nbformat_minor": 0,
  "metadata": {
    "colab": {
      "name": "A_B_test.ipynb",
      "provenance": [],
      "collapsed_sections": []
    },
    "kernelspec": {
      "name": "python3",
      "display_name": "Python 3"
    },
    "language_info": {
      "name": "python"
    }
  },
  "cells": [
    {
      "cell_type": "markdown",
      "metadata": {
        "id": "QG075JlhQ_iq"
      },
      "source": [
        "# Implementing A/B Tests in Python\n",
        "\n",
        "A/B testing is one of the most important tools for optimizing most things we interact with on our computers, phones and tablets. From website layouts to social media ads and product features, every button, banner and call to action has probably been A/B tested. And these tests can be extremely granular; Google famously tested \"40 shades of blue\" to decide what shade of blue should be used for links on the Google and Gmail landing pages.\n",
        "\n",
        "In this project we are going to try the A/B test"
      ]
    },
    {
      "cell_type": "code",
      "metadata": {
        "colab": {
          "base_uri": "https://localhost:8080/"
        },
        "id": "huttoArtRP3e",
        "outputId": "1e3216b1-4fc0-4257-ca6c-0c13e2dc067d"
      },
      "source": [
        "#import packages\n",
        "import pandas as pd\n",
        "import math\n",
        "import statsmodels.stats.api as sms\n",
        "import scipy.stats as st"
      ],
      "execution_count": 1,
      "outputs": [
        {
          "output_type": "stream",
          "text": [
            "/usr/local/lib/python3.7/dist-packages/statsmodels/tools/_testing.py:19: FutureWarning: pandas.util.testing is deprecated. Use the functions in the public API at pandas.testing instead.\n",
            "  import pandas.util.testing as tm\n"
          ],
          "name": "stderr"
        }
      ]
    },
    {
      "cell_type": "code",
      "metadata": {
        "colab": {
          "base_uri": "https://localhost:8080/",
          "height": 223
        },
        "id": "fs6SbiOoRcQh",
        "outputId": "a3437660-1806-4d03-fb81-1d274f7b7ae0"
      },
      "source": [
        "#import data\n",
        "raw_data = pd.read_csv(\"/content/ab_data.csv\")\n",
        "df = raw_data.copy()\n",
        "\n",
        "print(\"Number of rows: \", df.shape[0], \" Number of columns: \", df.shape[1])\n",
        "df.head()"
      ],
      "execution_count": 2,
      "outputs": [
        {
          "output_type": "stream",
          "text": [
            "Number of rows:  262139  Number of columns:  5\n"
          ],
          "name": "stdout"
        },
        {
          "output_type": "execute_result",
          "data": {
            "text/html": [
              "<div>\n",
              "<style scoped>\n",
              "    .dataframe tbody tr th:only-of-type {\n",
              "        vertical-align: middle;\n",
              "    }\n",
              "\n",
              "    .dataframe tbody tr th {\n",
              "        vertical-align: top;\n",
              "    }\n",
              "\n",
              "    .dataframe thead th {\n",
              "        text-align: right;\n",
              "    }\n",
              "</style>\n",
              "<table border=\"1\" class=\"dataframe\">\n",
              "  <thead>\n",
              "    <tr style=\"text-align: right;\">\n",
              "      <th></th>\n",
              "      <th>user_id</th>\n",
              "      <th>timestamp</th>\n",
              "      <th>group</th>\n",
              "      <th>landing_page</th>\n",
              "      <th>converted</th>\n",
              "    </tr>\n",
              "  </thead>\n",
              "  <tbody>\n",
              "    <tr>\n",
              "      <th>0</th>\n",
              "      <td>851104</td>\n",
              "      <td>11:48.6</td>\n",
              "      <td>control</td>\n",
              "      <td>old_page</td>\n",
              "      <td>0.0</td>\n",
              "    </tr>\n",
              "    <tr>\n",
              "      <th>1</th>\n",
              "      <td>804228</td>\n",
              "      <td>01:45.2</td>\n",
              "      <td>control</td>\n",
              "      <td>old_page</td>\n",
              "      <td>0.0</td>\n",
              "    </tr>\n",
              "    <tr>\n",
              "      <th>2</th>\n",
              "      <td>661590</td>\n",
              "      <td>55:06.2</td>\n",
              "      <td>treatment</td>\n",
              "      <td>new_page</td>\n",
              "      <td>0.0</td>\n",
              "    </tr>\n",
              "    <tr>\n",
              "      <th>3</th>\n",
              "      <td>853541</td>\n",
              "      <td>28:03.1</td>\n",
              "      <td>treatment</td>\n",
              "      <td>new_page</td>\n",
              "      <td>0.0</td>\n",
              "    </tr>\n",
              "    <tr>\n",
              "      <th>4</th>\n",
              "      <td>864975</td>\n",
              "      <td>52:26.2</td>\n",
              "      <td>control</td>\n",
              "      <td>old_page</td>\n",
              "      <td>1.0</td>\n",
              "    </tr>\n",
              "  </tbody>\n",
              "</table>\n",
              "</div>"
            ],
            "text/plain": [
              "   user_id timestamp      group landing_page  converted\n",
              "0   851104   11:48.6    control     old_page        0.0\n",
              "1   804228   01:45.2    control     old_page        0.0\n",
              "2   661590   55:06.2  treatment     new_page        0.0\n",
              "3   853541   28:03.1  treatment     new_page        0.0\n",
              "4   864975   52:26.2    control     old_page        1.0"
            ]
          },
          "metadata": {
            "tags": []
          },
          "execution_count": 2
        }
      ]
    },
    {
      "cell_type": "code",
      "metadata": {
        "colab": {
          "base_uri": "https://localhost:8080/"
        },
        "id": "3XPRjCAXRoHh",
        "outputId": "84dc3af8-2323-49b2-e466-3dce21ce98b4"
      },
      "source": [
        "df[\"group\"].value_counts()"
      ],
      "execution_count": 3,
      "outputs": [
        {
          "output_type": "execute_result",
          "data": {
            "text/plain": [
              "treatment    131137\n",
              "control      131002\n",
              "Name: group, dtype: int64"
            ]
          },
          "metadata": {
            "tags": []
          },
          "execution_count": 3
        }
      ]
    },
    {
      "cell_type": "code",
      "metadata": {
        "colab": {
          "base_uri": "https://localhost:8080/"
        },
        "id": "mufwR4SSRpYL",
        "outputId": "b8abf4e9-4d2c-46ae-ce4d-23bc979dabd1"
      },
      "source": [
        "#some of the control group saw the new_page and some tretment group saw the old_page \n",
        "mask1 = (df[\"group\"] == \"control\") & (df[\"landing_page\"] == \"new_page\")\n",
        "index_to_drop1 = df[mask1].index\n",
        "df = df.drop(index_to_drop1)\n",
        "\n",
        "mask2 = (df[\"group\"] == \"treatment\") & (df[\"landing_page\"] == \"old_page\")\n",
        "index_to_drop2 = df[mask2].index\n",
        "df = df.drop(index_to_drop2)\n",
        "\n",
        "print(df.shape)\n",
        "df[\"group\"].value_counts()"
      ],
      "execution_count": 4,
      "outputs": [
        {
          "output_type": "stream",
          "text": [
            "(258685, 5)\n"
          ],
          "name": "stdout"
        },
        {
          "output_type": "execute_result",
          "data": {
            "text/plain": [
              "treatment    129379\n",
              "control      129306\n",
              "Name: group, dtype: int64"
            ]
          },
          "metadata": {
            "tags": []
          },
          "execution_count": 4
        }
      ]
    },
    {
      "cell_type": "code",
      "metadata": {
        "colab": {
          "base_uri": "https://localhost:8080/"
        },
        "id": "eMJ1BJ0mR2lY",
        "outputId": "04c5405a-73d9-4b79-ab36-bbea5a823366"
      },
      "source": [
        "#Check how many duplicated users exist\n",
        "print(df[\"user_id\"].count())\n",
        "print(df[\"user_id\"].nunique())"
      ],
      "execution_count": 5,
      "outputs": [
        {
          "output_type": "stream",
          "text": [
            "258685\n",
            "258684\n"
          ],
          "name": "stdout"
        }
      ]
    },
    {
      "cell_type": "code",
      "metadata": {
        "id": "PPE3uZgTR6K-"
      },
      "source": [
        "#drop duplicated users\n",
        "df.drop_duplicates(subset ='user_id',keep ='first',inplace = True)"
      ],
      "execution_count": 7,
      "outputs": []
    },
    {
      "cell_type": "code",
      "metadata": {
        "colab": {
          "base_uri": "https://localhost:8080/"
        },
        "id": "Ta_pS8CUR8-d",
        "outputId": "75c2b583-70c8-48ec-ee67-fe80b70d9011"
      },
      "source": [
        "#Show the % split between users who saw new vs old page\n",
        "#Calculate pooled probability\n",
        "mask = (df[\"group\"] == \"control\")\n",
        "conversions_control = df[\"converted\"][mask].sum()\n",
        "total_users_control = df[\"converted\"][mask].count()\n",
        "\n",
        "mask = (df[\"group\"] == \"treatment\")\n",
        "conversions_treatment = df[\"converted\"][mask].sum()\n",
        "total_users_treatment = df[\"converted\"][mask].count()\n",
        "\n",
        "print(\"Split of control users who saw old page vs treatment users who saw new page: \", \n",
        "          round(total_users_control / df[\"converted\"].count() * 100, 2), \"% \",\n",
        "          round((total_users_treatment / df[\"converted\"].count()) * 100, 2), \"%\")\n",
        "\n",
        "#count number of users who converted in each group\n",
        "print(\"Number of control users who converted on old page: \", conversions_control)\n",
        "print(\"Percentage of control users who converted: \", round((conversions_control / total_users_control) * 100, 2), \"%\")\n",
        "\n",
        "mask = (df[\"group\"] == \"treatment\")\n",
        "print(\"Number of treatment users who converted on new page: \", conversions_treatment)\n",
        "print(\"Percentage of treatment users who converted: \", round((conversions_treatment/ total_users_treatment) * 100, 2), \"%\")"
      ],
      "execution_count": 8,
      "outputs": [
        {
          "output_type": "stream",
          "text": [
            "Split of control users who saw old page vs treatment users who saw new page:  49.99 %  50.01 %\n",
            "Number of control users who converted on old page:  15621.0\n",
            "Percentage of control users who converted:  12.08 %\n",
            "Number of treatment users who converted on new page:  15354.0\n",
            "Percentage of treatment users who converted:  11.87 %\n"
          ],
          "name": "stdout"
        }
      ]
    },
    {
      "cell_type": "markdown",
      "metadata": {
        "id": "x96woaCJSJ9Q"
      },
      "source": [
        "# Set Test Parameters"
      ]
    },
    {
      "cell_type": "code",
      "metadata": {
        "colab": {
          "base_uri": "https://localhost:8080/"
        },
        "id": "_tlxerxvSI58",
        "outputId": "6fcbe331-bd9b-4ade-f905-b984402a93b5"
      },
      "source": [
        "#Check what sample size is required\n",
        "baseline_rate = conversions_control / total_users_control\n",
        "practical_significance = 0.01 #user defined\n",
        "confidence_level = 0.05 #user defined, for a 95% confidence interval\n",
        "sensitivity = 0.8 #user defined\n",
        "\n",
        "effect_size = sms.proportion_effectsize(baseline_rate, baseline_rate + practical_significance)\n",
        "sample_size = sms.NormalIndPower().solve_power(effect_size = effect_size, power = sensitivity, \n",
        "                                               alpha = confidence_level, ratio=1)\n",
        "print(\"Required sample size: \", round(sample_size), \" per group\")"
      ],
      "execution_count": 9,
      "outputs": [
        {
          "output_type": "stream",
          "text": [
            "Required sample size:  17258  per group\n"
          ],
          "name": "stdout"
        }
      ]
    },
    {
      "cell_type": "markdown",
      "metadata": {
        "id": "eC1PIYH1Sekw"
      },
      "source": [
        "# A/B Test"
      ]
    },
    {
      "cell_type": "code",
      "metadata": {
        "id": "L-7wmQQ_ShmY"
      },
      "source": [
        "#Calculate pooled probability\n",
        "mask = (df[\"group\"] == \"control\")\n",
        "conversions_control = df[\"converted\"][mask].sum()\n",
        "total_users_control = df[\"converted\"][mask].count()\n",
        "\n",
        "mask = (df[\"group\"] == \"treatment\")\n",
        "conversions_treatment = df[\"converted\"][mask].sum()\n",
        "total_users_treatment = df[\"converted\"][mask].count()\n",
        "\n",
        "prob_pooled = (conversions_control + conversions_treatment) / (total_users_control + total_users_treatment)"
      ],
      "execution_count": 11,
      "outputs": []
    },
    {
      "cell_type": "code",
      "metadata": {
        "colab": {
          "base_uri": "https://localhost:8080/"
        },
        "id": "58vPiO95Sp57",
        "outputId": "3b16cc66-bc9f-499e-eb0b-45066f90f469"
      },
      "source": [
        "#Calculate pooled standard error and margin of error\n",
        "se_pooled = math.sqrt(prob_pooled * (1 - prob_pooled) * (1 / total_users_control + 1 / total_users_treatment))\n",
        "z_score = st.norm.ppf(1 - confidence_level / 2)\n",
        "margin_of_error = se_pooled * z_score\n",
        "\n",
        "#Calculate dhat, the estimated difference between probability of conversions in the experiment and control groups\n",
        "d_hat = (conversions_treatment / total_users_treatment) - (conversions_control / total_users_control)\n",
        "\n",
        "#Test if we can reject the null hypothesis\n",
        "lower_bound = d_hat - margin_of_error\n",
        "upper_bound = d_hat + margin_of_error\n",
        "\n",
        "if practical_significance < lower_bound:\n",
        "    print(\"Reject null hypothesis\")\n",
        "else: \n",
        "    print(\"Do not reject the null hypothesis\")\n",
        "    \n",
        "print(\"The lower bound of the confidence interval is \", round(lower_bound * 100, 2), \"%\")\n",
        "print(\"The upper bound of the confidence interval is \", round(upper_bound * 100, 2), \"%\")"
      ],
      "execution_count": 13,
      "outputs": [
        {
          "output_type": "stream",
          "text": [
            "Do not reject the null hypothesis\n",
            "The lower bound of the confidence interval is  -0.46 %\n",
            "The upper bound of the confidence interval is  0.04 %\n"
          ],
          "name": "stdout"
        }
      ]
    }
  ]
}